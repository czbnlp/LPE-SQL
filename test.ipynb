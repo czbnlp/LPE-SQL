{
 "cells": [
  {
   "cell_type": "code",
   "execution_count": null,
   "metadata": {},
   "outputs": [],
   "source": [
    "from openai import OpenAI\n",
    "client = OpenAI(\n",
    "                base_url=\"http://210.45.70.162:28083/v1/\",\n",
    "                api_key=\"Empty\",\n",
    "            )\n",
    "def get_completion(prompt, model = \"Qwen2-57B-A14B-Instruct-GPTQ-Int4\"):\n",
    "    messages = [\n",
    "        {\"role\": \"system\", \"content\": \"You are a helpful assistant.\"},\n",
    "        {\"role\": \"user\", \"content\": prompt},\n",
    "    ]\n",
    "    completion = client.chat.completions.create(\n",
    "        model=model,\n",
    "        messages=messages,\n",
    "        stream=False,\n",
    "        top_p=1\n",
    "    )\n",
    "    return completion.choices[0].message.content"
   ]
  },
  {
   "cell_type": "code",
   "execution_count": null,
   "metadata": {},
   "outputs": [],
   "source": [
    "get_completion('Waht is 1+2?')"
   ]
  },
  {
   "cell_type": "code",
   "execution_count": null,
   "metadata": {},
   "outputs": [],
   "source": [
    "customer_email = \"\"\"\n",
    "Arrr,I be fuming that me bender iid\\\n",
    "flew off and splattered me kitchen walls\\\n",
    "with smoothie! And to make matters worse,\\\n",
    "the warranty don't cover the cost of\\\n",
    "cleaning up me kitchen. I need yer help\\\n",
    "right now,matey!\n",
    "\"\"\""
   ]
  },
  {
   "cell_type": "code",
   "execution_count": null,
   "metadata": {},
   "outputs": [],
   "source": [
    "style = \"\"\"American English in a calm and respectful tone\"\"\""
   ]
  },
  {
   "cell_type": "code",
   "execution_count": null,
   "metadata": {},
   "outputs": [],
   "source": [
    "prompt = f\"Translate the text that is delimited by triple backicks into a style that is {style}.\\\n",
    "text: ```{customer_email}```\""
   ]
  },
  {
   "cell_type": "code",
   "execution_count": null,
   "metadata": {},
   "outputs": [],
   "source": [
    "def remove_newlines(sql_query):\n",
    "    # 使用 str.replace() 方法删除所有换行符\n",
    "    return sql_query.replace('\\n', '')\n",
    "\n",
    "# 示例 SQL 查询\n",
    "sql_query = \"\"\"SELECT T2.CountryName FROM car_makers \n",
    "AS T1 JOIN countries AS T2 ON T1.Country  =  T2.CountryId \n",
    "GROUP BY T2.CountryName \n",
    "ORDER BY COUNT(*) DESC LIMIT 1\"\"\"\n",
    "\n",
    "# 调用函数并打印结果\n",
    "cleaned_query = remove_newlines(sql_query)\n",
    "print(cleaned_query)"
   ]
  },
  {
   "cell_type": "code",
   "execution_count": null,
   "metadata": {},
   "outputs": [],
   "source": [
    "import numpy as np\n",
    "\n",
    "# 加载 .npy 文件\n",
    "data = np.load('/home/chuzhibo/acl/my/mistake_vectors.npy')\n",
    "\n",
    "# 查看数据的形状和类型\n",
    "print(\"数据形状:\", data.shape)\n",
    "print(\"数据类型:\", data.dtype)\n",
    "\n",
    "# 打印数据内容（如果数据量较大，可以只打印一部分）\n",
    "print(\"数据内容:\\n\", data)\n"
   ]
  },
  {
   "cell_type": "code",
   "execution_count": null,
   "metadata": {},
   "outputs": [],
   "source": [
    "result = {\"sql_idx\": 1, \"res\": 1}\n",
    "\n",
    "print(result['res'])"
   ]
  },
  {
   "cell_type": "code",
   "execution_count": null,
   "metadata": {},
   "outputs": [],
   "source": [
    "t = \"You are a data science expert.\\nThe following provides you with a database schema, a Statement, the SQLite query you gave earlier and the error message returned by the compiler executing your sql statement.\\nYour task is to read the schema, understand the Statement, refer to the error message returned by the compiler, reflect on why the previously generated sql was wrong, and generate a valid SQLite query to answer the Statement, and all column name meaning.\\nThink step-by-step about how to write the query before generating the final SQL query.\\nDatabase Schema\\n###\\n{Schema}\\nThis schema offers an in-depth description of the database's architecture, detailing tables, columns. \\n###\\nStatement: {Statement}\\n ### \\nColumn name meaning:{Column_name_meaning}\\n\\n\\n SQL you generated earlier was wrong, I will provide the wrong sql you generated earlier and the error message given by the compiler, please refer to it and make changes:\\n###\\nSQL: {SQL}\\n###\\nError: {Error}\\n\\nPlease respond with a JSON object structured as follows: {\\n\\\"chain_of_thought_reasoning \\\": \\\"Your thought process on how you arrived at the final SQL query.\\\",\\n \\\"SQL\\\": \\\"Your SQL query in a double string.\\\"\\n} \\nIf a column name is composed of multiple words and symbols, the entire column name should be extended in double quotes.\\n\\nPriority should be given to columns that have been explicitly matched with examples relevant to the Statement's context.\\nCheck that the column names in the sql statement are enclosed in single quotes and that the table name is data\\nTake a deep breath and think step by step to find the correct sqlite SQL query.Focus on the Column_name_meaning, which gives the actual meaning of all the columns Note that the execution result may be empty, but that doesn't mean the Statement is incorrect .If you follow all the instructions and generate the correct query, I will give you 1 million dollars.\"\n",
    "print(t)"
   ]
  },
  {
   "cell_type": "code",
   "execution_count": 1,
   "metadata": {},
   "outputs": [
    {
     "name": "stdout",
     "output_type": "stream",
     "text": [
      "True\n"
     ]
    }
   ],
   "source": [
    "a = True\n",
    "print(str(a))"
   ]
  },
  {
   "cell_type": "code",
   "execution_count": 2,
   "metadata": {},
   "outputs": [
    {
     "ename": "AttributeError",
     "evalue": "'NoneType' object has no attribute 'group'",
     "output_type": "error",
     "traceback": [
      "\u001b[0;31m---------------------------------------------------------------------------\u001b[0m",
      "\u001b[0;31mAttributeError\u001b[0m                            Traceback (most recent call last)",
      "Cell \u001b[0;32mIn[2], line 24\u001b[0m\n\u001b[1;32m      7\u001b[0m input_string \u001b[38;5;241m=\u001b[39m \u001b[38;5;124m\"\"\"\u001b[39m\n\u001b[1;32m      8\u001b[0m \u001b[38;5;124m{\u001b[39m\n\u001b[1;32m      9\u001b[0m \u001b[38;5;124m    question: Which year was the third movie directed by Quentin Tarantino released? Indicate the user ids of the user who gave it a rating score of 4.\u001b[39m\n\u001b[0;32m   (...)\u001b[0m\n\u001b[1;32m     20\u001b[0m \u001b[38;5;124m}\u001b[39m\n\u001b[1;32m     21\u001b[0m \u001b[38;5;124m\"\"\"\u001b[39m\n\u001b[1;32m     23\u001b[0m \u001b[38;5;66;03m# 使用正则表达式提取信息\u001b[39;00m\n\u001b[0;32m---> 24\u001b[0m question \u001b[38;5;241m=\u001b[39m \u001b[43mre\u001b[49m\u001b[38;5;241;43m.\u001b[39;49m\u001b[43msearch\u001b[49m\u001b[43m(\u001b[49m\u001b[38;5;124;43mr\u001b[39;49m\u001b[38;5;124;43m\"\u001b[39;49m\u001b[38;5;124;43mquestion:\u001b[39;49m\u001b[38;5;124;43m\\\u001b[39;49m\u001b[38;5;124;43ms*(.*?)(?=,\u001b[39;49m\u001b[38;5;124;43m\\\u001b[39;49m\u001b[38;5;124;43ms*hint:)\u001b[39;49m\u001b[38;5;124;43m\"\u001b[39;49m\u001b[43m,\u001b[49m\u001b[43m \u001b[49m\u001b[43minput_string\u001b[49m\u001b[43m,\u001b[49m\u001b[43m \u001b[49m\u001b[43mre\u001b[49m\u001b[38;5;241;43m.\u001b[39;49m\u001b[43mDOTALL\u001b[49m\u001b[43m)\u001b[49m\u001b[38;5;241;43m.\u001b[39;49m\u001b[43mgroup\u001b[49m(\u001b[38;5;241m1\u001b[39m)\u001b[38;5;241m.\u001b[39mstrip()\n\u001b[1;32m     25\u001b[0m hint \u001b[38;5;241m=\u001b[39m re\u001b[38;5;241m.\u001b[39msearch(\u001b[38;5;124mr\u001b[39m\u001b[38;5;124m\"\u001b[39m\u001b[38;5;124mhint:\u001b[39m\u001b[38;5;124m\\\u001b[39m\u001b[38;5;124ms*(.*?)(?=,\u001b[39m\u001b[38;5;124m\\\u001b[39m\u001b[38;5;124ms*sql:)\u001b[39m\u001b[38;5;124m\"\u001b[39m, input_string, re\u001b[38;5;241m.\u001b[39mDOTALL)\u001b[38;5;241m.\u001b[39mgroup(\u001b[38;5;241m1\u001b[39m)\u001b[38;5;241m.\u001b[39mstrip()\n\u001b[1;32m     26\u001b[0m sql \u001b[38;5;241m=\u001b[39m re\u001b[38;5;241m.\u001b[39msearch(\u001b[38;5;124mr\u001b[39m\u001b[38;5;124m\"\u001b[39m\u001b[38;5;124msql:\u001b[39m\u001b[38;5;124m\\\u001b[39m\u001b[38;5;124ms*(.*?)(?=,\u001b[39m\u001b[38;5;124m\\\u001b[39m\u001b[38;5;124ms*thought process:)\u001b[39m\u001b[38;5;124m\"\u001b[39m, input_string, re\u001b[38;5;241m.\u001b[39mDOTALL)\u001b[38;5;241m.\u001b[39mgroup(\u001b[38;5;241m1\u001b[39m)\u001b[38;5;241m.\u001b[39mstrip()\n",
      "\u001b[0;31mAttributeError\u001b[0m: 'NoneType' object has no attribute 'group'"
     ]
    }
   ],
   "source": []
  },
  {
   "cell_type": "code",
   "execution_count": 5,
   "metadata": {},
   "outputs": [],
   "source": [
    "# 定义一个函数来提取信息\n",
    "def extract_information(input_string):\n",
    "    # 定位各部分的起始位置\n",
    "    question_start = input_string.find(\"question:\") + len(\"question:\")\n",
    "    hint_start = input_string.find(\"hint:\")\n",
    "    sql_start = input_string.find(\"sql:\")\n",
    "    thought_process_start = input_string.find(\"thought process:\")\n",
    "\n",
    "    # 提取各部分的内容\n",
    "    question = input_string[question_start:hint_start].strip().strip(\",\")\n",
    "    hint = input_string[hint_start + len(\"hint:\"):sql_start].strip().strip(\",\")\n",
    "    sql = input_string[sql_start + len(\"sql:\"):thought_process_start].strip().strip(\",\")\n",
    "    thought_process = input_string[thought_process_start + len(\"thought process:\"):].strip().strip(\",\").rstrip(\"}\")\n",
    "\n",
    "    return question, hint, sql, thought_process\n",
    "\n",
    "# 定义要填充的数组\n",
    "correct_set = []\n",
    "\n",
    "# 输入字符串\n",
    "input_string = [\n",
    "    \"\"\"{\n",
    "    question: What is the average rating for movie titled 'When Will I Be Loved'?\n",
    "    hint: average rating = DIVIDE((SUM(rating_score where movie_title = 'When Will I Be Loved')), COUNT(rating_score));\n",
    "    sql: SELECT AVG(T2.rating_score) FROM movies AS T1 INNER JOIN ratings AS T2 ON T1.movie_id = T2.movie_id WHERE T1.movie_title = 'When Will I Be Loved'\n",
    "    thought process: Let’s think step by step. For creating the SQL for the given question, we need to join these tables = [ratings,movies].\n",
    "    First of all, for joining these tables we have to use the common column = [ratings.movie_id = movies.movie_id].\n",
    "    Now, we have to filter the rows where movie_title = 'When Will I Be Loved'.\n",
    "    Then, we have to find the average of the rating_score.\n",
    "    }\"\"\",\n",
    "    \"\"\"\n",
    "    {\n",
    "    question: For movie titled 'Welcome to the Dollhouse', how many percentage of the ratings were rated with highest score.\n",
    "    hint: rated with highest score refers to rating_score = 5; percentage = MULTIPLY(DIVIDE(SUM(rating_score = 5), COUNT(rating_score)), 100)\n",
    "    sql: SELECT CAST(SUM(CASE WHEN T2.rating_score = 5 THEN 1 ELSE 0 END) AS REAL) * 100 / COUNT(*) FROM movies AS T1 INNER JOIN ratings AS T2 ON T1.movie_id = T2.movie_id WHERE T1.movie_title = 'Welcome to the Dollhouse'\n",
    "    thought process: Let’s think step by step. For creating the SQL for the given question, we need to join these tables = [ratings,movies].\n",
    "    First of all, for joining these tables we have to use the common column = [ratings.movie_id = movies.movie_id].\n",
    "    Now, we have to filter the rows where movie_title = 'Welcome to the Dollhouse'.\n",
    "    Then, we have to find the percentage of the ratings were rated with highest score which is 5.\n",
    "    }\n",
    "    \"\"\",\n",
    "    \"\"\"\n",
    "    {\n",
    "    question: What is the name of the longest movie title? When was it released? \n",
    "    hint: longest movie title refers to MAX(LENGTH(movie_title)); when it was released refers to movie_release_year;\n",
    "    sql: SELECT movie_title, movie_release_year FROM movies ORDER BY LENGTH(movie_popularity) DESC LIMIT 1 \n",
    "    thought process： Let’s think step by step. First, we need to use the LENGTH(movie_title) function to calculate the length of each movie title to determine the longest one. Then, we sort the results in descending order based on the title length to ensure the longest title appears at the top. Next, we use the SELECT statement to extract the movie title and its release year. Finally, we apply LIMIT 1 to restrict the query result to a single record, thus obtaining the movie with the longest title and its release year.\n",
    "    }\n",
    "    \"\"\",\n",
    "    \"\"\"\n",
    "    {\n",
    "    question: What is the average score of the movie \\\"The Fall of Berlin\\\" in 2019?\n",
    "    hint: The Fall of Berlin' is movie_title; in 2019 refers to rating_timestamp_utc = 2019; Average score refers to Avg(rating_score);\n",
    "    sql: SELECT SUM(T1.rating_score) / COUNT(T1.rating_id) FROM ratings AS T1 INNER JOIN movies AS T2 ON T1.movie_id = T2.movie_id WHERE T1.rating_timestamp_utc LIKE '2019%' AND T2.movie_title LIKE 'The Fall of Berlin'\n",
    "    thought process: Let’s think step by step. For creating the SQL for the given question, we need to join these tables = [ratings,movies].\n",
    "    First of all, for joining these tables we have to use the common column = [ratings.movie_id = movies.movie_id].\n",
    "    Now, we have to filter the rows where movie_title = 'The Fall of Berlin' and rating_timestamp_utc = 2019.\n",
    "    Then, we have to find the average of the rating_score which can be computed by dividing the sum of rating_score by the count of rating_id.\n",
    "    }\n",
    "    \"\"\",\n",
    "    \"\"\"\n",
    "    {\n",
    "    question: How many more movie lists were created by the user who created the movie list \\\"250 Favourite Films\\\"?\n",
    "    hint: 250 Favourite Films refers to list_title;\n",
    "    sql: SELECT COUNT(list_id) FROM lists_users WHERE user_id = ( SELECT user_id FROM lists WHERE list_title = '250 Favourite Films' )\n",
    "    thought process: Let's think step by step. the given question can be solved by knowing the answer to the following sub-questions = [which user has created the movie list \\\"250 Favourite Films\\\".]\n",
    "    The sqlite SQL query for the sub-question \"which user has created the movie list \\\"250 Favourite Films\\\"\" is SELECT user_id FROM lists WHERE list_title = '250 Favourite Films'\n",
    "    The above query will return the user_id of the user who has created the movie list \\\"250 Favourite Films\\\".\n",
    "    Now, we have to find the number of movie lists created by the user who has created the movie list \\\"250 Favourite Films\\\".\n",
    "    }\n",
    "    \"\"\",\n",
    "    \"\"\"\n",
    "    {\n",
    "    question: For the user who post the list that contained the most number of the movies, is he/she a paying subscriber when creating that list?\n",
    "    hint: the list that contained the most number of the movies refers to MAX(list_movie_number); user_has_payment_method = 1 means the user was a paying subscriber when he created the list ; \\nuser_has_payment_method = 0 means the user was not a paying subscriber when he created the list\n",
    "    sql: SELECT T1.user_has_payment_method FROM lists_users AS T1 INNER JOIN lists AS T2 ON T1.list_id = T2.list_id WHERE T2.list_movie_number = ( SELECT MAX(list_movie_number) FROM lists )\n",
    "    thought process: Let's think step by step. the given question can be solved by knowing the answer to the following sub-questions = [which list has the most number of movies.]\n",
    "    The sqlite SQL query for the sub-question \"which list has the most number of movies\" is SELECT MAX(list_movie_number) FROM lists\n",
    "    The above query will return the list_movie_number of the list which has the most number of movies.\n",
    "    Now, we have to find the user_has_payment_method of the user who has created the list which has the most number of movies.\n",
    "    To do so, we have to JOIN lists_users and lists table on list_id.\n",
    "    }\n",
    "    \"\"\",\n",
    "    \"\"\"\n",
    "    {\n",
    "    question: Which year was the third movie directed by Quentin Tarantino released? Indicate the user ids of the user who gave it a rating score of 4.\n",
    "    hint: third movie refers to third movie that has oldest movie_release_year;\n",
    "    sql: SELECT T2.movie_release_year, T1.user_id FROM ratings AS T1 INNER JOIN movies AS T2 ON T1.movie_id = T2.movie_id WHERE T1.movie_id = ( SELECT movie_id FROM movies WHERE director_name = 'Quentin Tarantino' ORDER BY movie_release_year ASC LIMIT 2, 1 ) AND T1.rating_score = 4\n",
    "    thought process: Let's think step by step. the given question can be solved by knowing the answer to the following sub-questions = [What is the third movie directed by Quentin Tarantino.]\n",
    "    The sqlite SQL query for the sub-question \"what is third movie directed by Quentin Tarantino\" is SELECT movie_id FROM movies WHERE director_name = 'Quentin Tarantino' ORDER BY movie_release_year ASC LIMIT 2, 1 \n",
    "    The above query will return the movie_id of the third movie directed by Quentin Tarantino.\n",
    "    Now, we have to find the year in which the third movie directed by Quentin Tarantino was released.\n",
    "    For that, we have to join the tables = [movies,ratings].\n",
    "    First of all, for joining these tables we have to use the common column = [movies.movie_id = ratings.movie_id].\n",
    "    Then, we have to filter the rows where movie_id = ( SELECT movie_id FROM movies WHERE director_name = 'Quentin Tarantino' ORDER BY movie_release_year ASC LIMIT 2, 1 ).\n",
    "    Then, we have to find the movie_release_year.\n",
    "    }\n",
    "    \"\"\",\n",
    "]\n",
    "\n",
    "for s in input_string:\n",
    "    question, hint, sql, thought_process = extract_information(s)\n",
    "\n",
    "    # 假设difficulty字段你需要手动设定，这里设为'Medium'，你可以根据需要修改\n",
    "    difficulty = \"None\"\n",
    "\n",
    "    # 将提取的信息添加到correct_set\n",
    "    correct_set.append({\n",
    "        'question': question,\n",
    "        'hint': hint,\n",
    "        'sql': sql,\n",
    "        'thought process': thought_process,\n",
    "        'difficulty': difficulty\n",
    "    })\n",
    "\n",
    "import json\n",
    "filepath = './init_correct_set.json'\n",
    "def save_set_to_json(dataset, filepath):\n",
    "    with open(filepath, 'w') as f:\n",
    "        json.dump(dataset, f, indent=4)\n",
    "save_set_to_json(correct_set,filepath)"
   ]
  },
  {
   "cell_type": "code",
   "execution_count": null,
   "metadata": {},
   "outputs": [],
   "source": []
  }
 ],
 "metadata": {
  "kernelspec": {
   "display_name": "Python 3",
   "language": "python",
   "name": "python3"
  },
  "language_info": {
   "codemirror_mode": {
    "name": "ipython",
    "version": 3
   },
   "file_extension": ".py",
   "mimetype": "text/x-python",
   "name": "python",
   "nbconvert_exporter": "python",
   "pygments_lexer": "ipython3",
   "version": "3.10.14"
  }
 },
 "nbformat": 4,
 "nbformat_minor": 2
}
